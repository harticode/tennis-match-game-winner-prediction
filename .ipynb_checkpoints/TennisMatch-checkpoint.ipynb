{
 "cells": [
  {
   "cell_type": "code",
   "execution_count": 1,
   "metadata": {
    "id": "8Gw4stfGfGBb"
   },
   "outputs": [],
   "source": [
    "import pandas as pd\n",
    "import seaborn as sns"
   ]
  },
  {
   "cell_type": "code",
   "execution_count": 2,
   "metadata": {
    "id": "5CcNJnBXf7Nn"
   },
   "outputs": [],
   "source": [
    "df=pd.read_csv('training_data.csv').dropna()"
   ]
  },
  {
   "cell_type": "code",
   "execution_count": 3,
   "metadata": {},
   "outputs": [
    {
     "name": "stdout",
     "output_type": "stream",
     "text": [
      "Server\n",
      "Sets\n",
      "Games\n",
      "Points\n",
      "Description\n"
     ]
    }
   ],
   "source": [
    "for column in df.columns:\n",
    "    print(column)"
   ]
  },
  {
   "cell_type": "code",
   "execution_count": 4,
   "metadata": {
    "id": "9VuHK-RmhBl5"
   },
   "outputs": [],
   "source": [
    "#Separate the data into server data and receiver data, as well as splitting the services\n",
    "\n",
    "df[['Sets1','Sets2']] = df['Sets'].str.split('?',expand=True)\n",
    "df[['Games1','Games2']] = df['Games'].str.split('?',expand=True)\n",
    "df[['Points1','Points2']] = df['Points'].str.split('?',expand=True)\n",
    "\n",
    "PointsNormalized = {'0':0,'15':1,'30':2,'40':3,'AD':4}\n",
    "df['Points1Normalized']=[PointsNormalized[x] for x in df['Points1']]\n",
    "df['Points2Normalized']=[PointsNormalized[x] for x in df['Points2']]\n",
    "df[['1stService','2ndService','aa']] = df['Description'].str.split('.',expand=True)\n",
    "df['2ndService']=[x if 'rally' not in x else '' for x in df['2ndService'] ]\n",
    "df['RelevantService']=[x['1stService'] if x['2ndService']=='' else x['2ndService'] for i,x in df.iterrows()]\n",
    "df['PointsCushion']=[x.Points1Normalized-x.Points2Normalized if (x.Points1!='AD' and x.Points2!='AD') else 1 for i,x in df.iterrows()]  \n",
    "df['FinishType']=[x.split(',')[-1] for x in df['RelevantService']]\n",
    "df['RallyLength']=[len(x.split(';')) -1 for x in df['RelevantService']]\n",
    "df['1stServiceType']=[x.split(';')[0].split(',')[0].split('serve')[-1] for x in df['1stService']]\n",
    "df['2ndServiceType']=[x.split(';')[0].split(',')[0].split('serve')[-1] for x in df['2ndService']]\n",
    "df['RelevantServiceType']=[x.split(';')[0].split(',')[0].split('serve')[-1] for x in df['RelevantService']]\n",
    "df['Fault']=[0 if x=='' else 2 if 'fault' in x else 1 for x in df['2ndService']]\n",
    "df['Error']=[1 if 'fault' in x else 1 if 'error' in x else 0 for x in df.RelevantService]\n",
    "\n",
    "opponent={'RogerFederer':'RafaelNadal','RafaelNadal':'RogerFederer'}\n",
    "df['PointWinner']=[x.Server if (x.RallyLength%2 + x.Error !=1) else opponent[x.Server.replace('\\xa0','')] for i,x in df.iterrows()]\n",
    "df['PointWinner']=[x.PointWinner.replace('\\xa0','') for i,x in df.iterrows()]\n",
    "df['ServerWins']=[1 if x.PointWinner[0:2]==x.Server[0:2] else 0 for i,x in df.iterrows()]\n",
    "df['GamePoint']=[1 if ((x.Points1=='40' or x.Points2=='40') and x.PointsCushion!=0) else 0 for i,x in df.iterrows()]\n",
    "df['BreakPoint']=[1 if x.GamePoint==1 and x.PointsCushion <0 else 0 for i,x in df.iterrows()]\n",
    "df['Break']=[1 if x.BreakPoint == 1 and x.ServerWins == 0 else 0 for i,x in df.iterrows()]\n",
    "df['BreakSaved']=[1 if x.BreakPoint == 1 and x.ServerWins == 1 else 0 for i,x in df.iterrows()]"
   ]
  },
  {
   "cell_type": "code",
   "execution_count": 5,
   "metadata": {
    "colab": {
     "base_uri": "https://localhost:8080/",
     "height": 521
    },
    "id": "wperWWpSyjMV",
    "outputId": "e8d1cb39-0b40-41a9-86af-2b5afe8b9ac0"
   },
   "outputs": [],
   "source": [
    "df=df.drop(['aa','Sets', 'Games', 'Points', 'Description'],'columns')"
   ]
  },
  {
   "cell_type": "code",
   "execution_count": 6,
   "metadata": {},
   "outputs": [
    {
     "data": {
      "text/html": [
       "<div>\n",
       "<style scoped>\n",
       "    .dataframe tbody tr th:only-of-type {\n",
       "        vertical-align: middle;\n",
       "    }\n",
       "\n",
       "    .dataframe tbody tr th {\n",
       "        vertical-align: top;\n",
       "    }\n",
       "\n",
       "    .dataframe thead th {\n",
       "        text-align: right;\n",
       "    }\n",
       "</style>\n",
       "<table border=\"1\" class=\"dataframe\">\n",
       "  <thead>\n",
       "    <tr style=\"text-align: right;\">\n",
       "      <th></th>\n",
       "      <th>Server</th>\n",
       "      <th>Sets1</th>\n",
       "      <th>Sets2</th>\n",
       "      <th>Games1</th>\n",
       "      <th>Games2</th>\n",
       "      <th>Points1</th>\n",
       "      <th>Points2</th>\n",
       "      <th>Points1Normalized</th>\n",
       "      <th>Points2Normalized</th>\n",
       "      <th>1stService</th>\n",
       "      <th>...</th>\n",
       "      <th>2ndServiceType</th>\n",
       "      <th>RelevantServiceType</th>\n",
       "      <th>Fault</th>\n",
       "      <th>Error</th>\n",
       "      <th>PointWinner</th>\n",
       "      <th>ServerWins</th>\n",
       "      <th>GamePoint</th>\n",
       "      <th>BreakPoint</th>\n",
       "      <th>Break</th>\n",
       "      <th>BreakSaved</th>\n",
       "    </tr>\n",
       "  </thead>\n",
       "  <tbody>\n",
       "    <tr>\n",
       "      <th>0</th>\n",
       "      <td>Rafael Nadal</td>\n",
       "      <td>0</td>\n",
       "      <td>0</td>\n",
       "      <td>0</td>\n",
       "      <td>0</td>\n",
       "      <td>0</td>\n",
       "      <td>0</td>\n",
       "      <td>0</td>\n",
       "      <td>0</td>\n",
       "      <td>1st serve wide, fault (long)</td>\n",
       "      <td>...</td>\n",
       "      <td>to body</td>\n",
       "      <td>to body</td>\n",
       "      <td>1</td>\n",
       "      <td>1</td>\n",
       "      <td>RafaelNadal</td>\n",
       "      <td>1</td>\n",
       "      <td>0</td>\n",
       "      <td>0</td>\n",
       "      <td>0</td>\n",
       "      <td>0</td>\n",
       "    </tr>\n",
       "    <tr>\n",
       "      <th>1</th>\n",
       "      <td>Rafael Nadal</td>\n",
       "      <td>0</td>\n",
       "      <td>0</td>\n",
       "      <td>0</td>\n",
       "      <td>0</td>\n",
       "      <td>15</td>\n",
       "      <td>0</td>\n",
       "      <td>1</td>\n",
       "      <td>0</td>\n",
       "      <td>1st serve wide, fault (long)</td>\n",
       "      <td>...</td>\n",
       "      <td>wide</td>\n",
       "      <td>wide</td>\n",
       "      <td>1</td>\n",
       "      <td>1</td>\n",
       "      <td>RafaelNadal</td>\n",
       "      <td>1</td>\n",
       "      <td>0</td>\n",
       "      <td>0</td>\n",
       "      <td>0</td>\n",
       "      <td>0</td>\n",
       "    </tr>\n",
       "    <tr>\n",
       "      <th>2</th>\n",
       "      <td>Rafael Nadal</td>\n",
       "      <td>0</td>\n",
       "      <td>0</td>\n",
       "      <td>0</td>\n",
       "      <td>0</td>\n",
       "      <td>30</td>\n",
       "      <td>0</td>\n",
       "      <td>2</td>\n",
       "      <td>0</td>\n",
       "      <td>1st serve down the T; backhand slice return, f...</td>\n",
       "      <td>...</td>\n",
       "      <td></td>\n",
       "      <td>down the T</td>\n",
       "      <td>0</td>\n",
       "      <td>1</td>\n",
       "      <td>RafaelNadal</td>\n",
       "      <td>1</td>\n",
       "      <td>0</td>\n",
       "      <td>0</td>\n",
       "      <td>0</td>\n",
       "      <td>0</td>\n",
       "    </tr>\n",
       "    <tr>\n",
       "      <th>3</th>\n",
       "      <td>Rafael Nadal</td>\n",
       "      <td>0</td>\n",
       "      <td>0</td>\n",
       "      <td>0</td>\n",
       "      <td>0</td>\n",
       "      <td>40</td>\n",
       "      <td>0</td>\n",
       "      <td>3</td>\n",
       "      <td>0</td>\n",
       "      <td>1st serve down the T; forehand return crosscou...</td>\n",
       "      <td>...</td>\n",
       "      <td></td>\n",
       "      <td>down the T</td>\n",
       "      <td>0</td>\n",
       "      <td>1</td>\n",
       "      <td>RafaelNadal</td>\n",
       "      <td>1</td>\n",
       "      <td>1</td>\n",
       "      <td>0</td>\n",
       "      <td>0</td>\n",
       "      <td>0</td>\n",
       "    </tr>\n",
       "    <tr>\n",
       "      <th>5</th>\n",
       "      <td>Roger Federer</td>\n",
       "      <td>0</td>\n",
       "      <td>0</td>\n",
       "      <td>0</td>\n",
       "      <td>1</td>\n",
       "      <td>0</td>\n",
       "      <td>0</td>\n",
       "      <td>0</td>\n",
       "      <td>0</td>\n",
       "      <td>1st serve wide; backhand return down the middl...</td>\n",
       "      <td>...</td>\n",
       "      <td></td>\n",
       "      <td>wide</td>\n",
       "      <td>0</td>\n",
       "      <td>1</td>\n",
       "      <td>RogerFederer</td>\n",
       "      <td>1</td>\n",
       "      <td>0</td>\n",
       "      <td>0</td>\n",
       "      <td>0</td>\n",
       "      <td>0</td>\n",
       "    </tr>\n",
       "  </tbody>\n",
       "</table>\n",
       "<p>5 rows × 26 columns</p>\n",
       "</div>"
      ],
      "text/plain": [
       "            Server Sets1 Sets2 Games1 Games2 Points1 Points2  \\\n",
       "0   Rafael Nadal       0     0      0      0       0       0   \n",
       "1   Rafael Nadal       0     0      0      0      15       0   \n",
       "2   Rafael Nadal       0     0      0      0      30       0   \n",
       "3   Rafael Nadal       0     0      0      0      40       0   \n",
       "5  Roger Federer       0     0      0      1       0       0   \n",
       "\n",
       "   Points1Normalized  Points2Normalized  \\\n",
       "0                  0                  0   \n",
       "1                  1                  0   \n",
       "2                  2                  0   \n",
       "3                  3                  0   \n",
       "5                  0                  0   \n",
       "\n",
       "                                          1stService  ... 2ndServiceType  \\\n",
       "0                       1st serve wide, fault (long)  ...        to body   \n",
       "1                       1st serve wide, fault (long)  ...           wide   \n",
       "2  1st serve down the T; backhand slice return, f...  ...                  \n",
       "3  1st serve down the T; forehand return crosscou...  ...                  \n",
       "5  1st serve wide; backhand return down the middl...  ...                  \n",
       "\n",
       "  RelevantServiceType  Fault Error   PointWinner ServerWins GamePoint  \\\n",
       "0             to body      1     1   RafaelNadal          1         0   \n",
       "1                wide      1     1   RafaelNadal          1         0   \n",
       "2          down the T      0     1   RafaelNadal          1         0   \n",
       "3          down the T      0     1   RafaelNadal          1         1   \n",
       "5                wide      0     1  RogerFederer          1         0   \n",
       "\n",
       "  BreakPoint  Break  BreakSaved  \n",
       "0          0      0           0  \n",
       "1          0      0           0  \n",
       "2          0      0           0  \n",
       "3          0      0           0  \n",
       "5          0      0           0  \n",
       "\n",
       "[5 rows x 26 columns]"
      ]
     },
     "execution_count": 6,
     "metadata": {},
     "output_type": "execute_result"
    }
   ],
   "source": [
    "df.head()"
   ]
  },
  {
   "cell_type": "code",
   "execution_count": 7,
   "metadata": {
    "id": "pwOl5ksljAI6"
   },
   "outputs": [
    {
     "name": "stderr",
     "output_type": "stream",
     "text": [
      "C:\\ProgramData\\Anaconda3\\lib\\site-packages\\seaborn\\_decorators.py:36: FutureWarning: Pass the following variables as keyword args: x, y. From version 0.12, the only valid positional argument will be `data`, and passing other arguments without an explicit keyword will result in an error or misinterpretation.\n",
      "  warnings.warn(\n"
     ]
    },
    {
     "data": {
      "text/plain": [
       "<seaborn.axisgrid.FacetGrid at 0x2629089d2e0>"
      ]
     },
     "execution_count": 7,
     "metadata": {},
     "output_type": "execute_result"
    },
    {
     "data": {
      "image/png": "[encoded data removed]",
      "text/plain": [
       "<Figure size 472.375x360 with 1 Axes>"
      ]
     },
     "metadata": {
      "needs_background": "light"
     },
     "output_type": "display_data"
    }
   ],
   "source": [
    "sns.lmplot('RallyLength', 'PointsCushion', data=df, hue='Server', fit_reg=True)"
   ]
  },
  {
   "cell_type": "code",
   "execution_count": 8,
   "metadata": {},
   "outputs": [],
   "source": [
    "y = pd.get_dummies(df.FinishType)\n",
    "z = pd.get_dummies(df.RelevantServiceType)\n",
    "q = pd.merge(y, z, left_index=True, right_index=True)\n",
    "\n",
    "df_ONEHOT = pd.merge(df, q, left_index=True, right_index=True)"
   ]
  },
  {
   "cell_type": "code",
   "execution_count": 18,
   "metadata": {},
   "outputs": [
    {
     "data": {
      "text/plain": [
       "Index(['Server', 'Sets1', 'Sets2', 'Games1', 'Games2', 'Points1', 'Points2',\n",
       "       'Points1Normalized', 'Points2Normalized', '1stService', '2ndService',\n",
       "       'RelevantService', 'PointsCushion', 'FinishType', 'RallyLength',\n",
       "       '1stServiceType', '2ndServiceType', 'RelevantServiceType', 'Fault',\n",
       "       'Error', 'PointWinner', 'ServerWins', 'GamePoint', 'BreakPoint',\n",
       "       'Break', 'BreakSaved', 'ace', 'double_fault', 'forced_error',\n",
       "       'service_winner', 'unforced_error', 'winner', '_down_the_T', '_to_body',\n",
       "       '_wide'],\n",
       "      dtype='object')"
      ]
     },
     "execution_count": 18,
     "metadata": {},
     "output_type": "execute_result"
    }
   ],
   "source": [
    "df_ONEHOT.columns = df_ONEHOT.columns.str.replace(' ', '_')\n",
    "df_ONEHOT.columns = df_ONEHOT.columns.str.replace('\\xa0','')\n",
    "df_ONEHOT.columns"
   ]
  },
  {
   "cell_type": "code",
   "execution_count": 19,
   "metadata": {},
   "outputs": [
    {
     "name": "stderr",
     "output_type": "stream",
     "text": [
      "C:\\ProgramData\\Anaconda3\\lib\\site-packages\\seaborn\\_decorators.py:36: FutureWarning: Pass the following variables as keyword args: x, y. From version 0.12, the only valid positional argument will be `data`, and passing other arguments without an explicit keyword will result in an error or misinterpretation.\n",
      "  warnings.warn(\n"
     ]
    },
    {
     "data": {
      "text/plain": [
       "<seaborn.axisgrid.FacetGrid at 0x262910ce850>"
      ]
     },
     "execution_count": 19,
     "metadata": {},
     "output_type": "execute_result"
    },
    {
     "data": {
      "image/png": "[encoded data removed]",
      "text/plain": [
       "<Figure size 472.375x360 with 1 Axes>"
      ]
     },
     "metadata": {
      "needs_background": "light"
     },
     "output_type": "display_data"
    }
   ],
   "source": [
    "sns.lmplot('RallyLength', 'unforced_error', data=df_ONEHOT, hue='Server', fit_reg=True)"
   ]
  },
  {
   "cell_type": "code",
   "execution_count": null,
   "metadata": {},
   "outputs": [],
   "source": []
  }
 ],
 "metadata": {
  "colab": {
   "collapsed_sections": [],
   "name": "TennisMatch.ipynb",
   "provenance": []
  },
  "kernelspec": {
   "display_name": "Python 3",
   "language": "python",
   "name": "python3"
  },
  "language_info": {
   "codemirror_mode": {
    "name": "ipython",
    "version": 3
   },
   "file_extension": ".py",
   "mimetype": "text/x-python",
   "name": "python",
   "nbconvert_exporter": "python",
   "pygments_lexer": "ipython3",
   "version": "3.8.5"
  }
 },
 "nbformat": 4,
 "nbformat_minor": 1
}
